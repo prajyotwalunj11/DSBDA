{
 "cells": [
  {
   "cell_type": "code",
   "execution_count": 1,
   "id": "4b6dceea",
   "metadata": {},
   "outputs": [],
   "source": [
    "import pandas as pd"
   ]
  },
  {
   "cell_type": "code",
   "execution_count": 2,
   "id": "2e7a27a8",
   "metadata": {},
   "outputs": [],
   "source": [
    "import numpy as np"
   ]
  },
  {
   "cell_type": "code",
   "execution_count": 5,
   "id": "6b137335",
   "metadata": {},
   "outputs": [],
   "source": [
    "import nltk"
   ]
  },
  {
   "cell_type": "code",
   "execution_count": 8,
   "id": "5f83c34d",
   "metadata": {},
   "outputs": [
    {
     "name": "stdout",
     "output_type": "stream",
     "text": [
      "Hello he said  and  left \n"
     ]
    }
   ],
   "source": [
    "# Data Cleaning\n",
    "\n",
    "# Removing The Punctuations\n",
    "\n",
    "punctuations = '''!@()-[]{};,:$%^&*'''\n",
    "my_str = \"Hello!! he said -- and @ left !\"\n",
    "no_punct=\"\"\n",
    "for char in my_str:\n",
    "    if(char not in punctuations):\n",
    "        no_punct = no_punct+char\n",
    "        \n",
    "print(no_punct)"
   ]
  },
  {
   "cell_type": "code",
   "execution_count": 12,
   "id": "d5d49172",
   "metadata": {},
   "outputs": [
    {
     "data": {
      "text/plain": [
       "'string with punctuation'"
      ]
     },
     "execution_count": 12,
     "metadata": {},
     "output_type": "execute_result"
    }
   ],
   "source": [
    "import re\n",
    "s=\"string. with punctuation?\"\n",
    "s=re.sub(r'[^\\w\\s]','',s)\n",
    "s\n",
    "# rejex expression\n",
    "# w = word s=space\n",
    "# ^ not to select"
   ]
  },
  {
   "cell_type": "code",
   "execution_count": 13,
   "id": "635d2cc6",
   "metadata": {},
   "outputs": [
    {
     "name": "stderr",
     "output_type": "stream",
     "text": [
      "[nltk_data] Downloading package punkt to\n",
      "[nltk_data]     C:\\Users\\user\\AppData\\Roaming\\nltk_data...\n",
      "[nltk_data]   Unzipping tokenizers\\punkt.zip.\n",
      "[nltk_data] Downloading package wordnet to\n",
      "[nltk_data]     C:\\Users\\user\\AppData\\Roaming\\nltk_data...\n"
     ]
    },
    {
     "data": {
      "text/plain": [
       "True"
      ]
     },
     "execution_count": 13,
     "metadata": {},
     "output_type": "execute_result"
    }
   ],
   "source": [
    "#tokenization\n",
    "nltk.download('punkt')\n",
    "nltk.download('wordnet')"
   ]
  },
  {
   "cell_type": "code",
   "execution_count": 14,
   "id": "2753e4fa",
   "metadata": {},
   "outputs": [],
   "source": [
    "text =  \"A boy and a girl were playing together. The boy had a collection of marbles. The girl had some sweets with her. The boy told the girl that he will give her all his marbles in exchange for her sweets.The girlagreed.The boy kept the biggest and the most beautiful marble aside and gave the rest to the girl. The girl gave him all her sweets as she had promised.That night, the girl slept peacefully. But the boy couldn't sleep as he kept wondering if the girl had hidden some sweets from him the way he had hidden his best marble.\""
   ]
  },
  {
   "cell_type": "code",
   "execution_count": 15,
   "id": "b1d459ef",
   "metadata": {},
   "outputs": [
    {
     "data": {
      "text/plain": [
       "\"a boy and a girl were playing together. the boy had a collection of marbles. the girl had some sweets with her. the boy told the girl that he will give her all his marbles in exchange for her sweets.the girlagreed.the boy kept the biggest and the most beautiful marble aside and gave the rest to the girl. the girl gave him all her sweets as she had promised.that night, the girl slept peacefully. but the boy couldn't sleep as he kept wondering if the girl had hidden some sweets from him the way he had hidden his best marble.\""
      ]
     },
     "execution_count": 15,
     "metadata": {},
     "output_type": "execute_result"
    }
   ],
   "source": [
    "text.lower()"
   ]
  },
  {
   "cell_type": "code",
   "execution_count": 16,
   "id": "f8736ac1",
   "metadata": {},
   "outputs": [
    {
     "name": "stdout",
     "output_type": "stream",
     "text": [
      "['A', 'boy', 'and', 'a', 'girl', 'were', 'playing', 'together', '.', 'The', 'boy', 'had', 'a', 'collection', 'of', 'marbles', '.', 'The', 'girl', 'had', 'some', 'sweets', 'with', 'her', '.', 'The', 'boy', 'told', 'the', 'girl', 'that', 'he', 'will', 'give', 'her', 'all', 'his', 'marbles', 'in', 'exchange', 'for', 'her', 'sweets.The', 'girlagreed.The', 'boy', 'kept', 'the', 'biggest', 'and', 'the', 'most', 'beautiful', 'marble', 'aside', 'and', 'gave', 'the', 'rest', 'to', 'the', 'girl', '.', 'The', 'girl', 'gave', 'him', 'all', 'her', 'sweets', 'as', 'she', 'had', 'promised.That', 'night', ',', 'the', 'girl', 'slept', 'peacefully', '.', 'But', 'the', 'boy', 'could', \"n't\", 'sleep', 'as', 'he', 'kept', 'wondering', 'if', 'the', 'girl', 'had', 'hidden', 'some', 'sweets', 'from', 'him', 'the', 'way', 'he', 'had', 'hidden', 'his', 'best', 'marble', '.']\n"
     ]
    }
   ],
   "source": [
    "word_token = nltk.word_tokenize(text)\n",
    "print(word_token)"
   ]
  },
  {
   "cell_type": "code",
   "execution_count": 18,
   "id": "0a3220dd",
   "metadata": {},
   "outputs": [
    {
     "data": {
      "text/plain": [
       "['hi', 'how', 'are', 'you']"
      ]
     },
     "execution_count": 18,
     "metadata": {},
     "output_type": "execute_result"
    }
   ],
   "source": [
    "#using split\n",
    "s=\"hi how are you\"\n",
    "s.split(' ')"
   ]
  },
  {
   "cell_type": "code",
   "execution_count": 19,
   "id": "83526413",
   "metadata": {},
   "outputs": [
    {
     "name": "stdout",
     "output_type": "stream",
     "text": [
      "['A boy and a girl were playing together.', 'The boy had a collection of marbles.', 'The girl had some sweets with her.', 'The boy told the girl that he will give her all his marbles in exchange for her sweets.The girlagreed.The boy kept the biggest and the most beautiful marble aside and gave the rest to the girl.', 'The girl gave him all her sweets as she had promised.That night, the girl slept peacefully.', \"But the boy couldn't sleep as he kept wondering if the girl had hidden some sweets from him the way he had hidden his best marble.\"]\n"
     ]
    }
   ],
   "source": [
    "sentence_token = nltk.sent_tokenize(text)\n",
    "print(sentence_token)"
   ]
  },
  {
   "cell_type": "code",
   "execution_count": 20,
   "id": "4d9f2afc",
   "metadata": {},
   "outputs": [],
   "source": [
    "# stop word removal"
   ]
  },
  {
   "cell_type": "code",
   "execution_count": 21,
   "id": "10965781",
   "metadata": {},
   "outputs": [
    {
     "name": "stderr",
     "output_type": "stream",
     "text": [
      "[nltk_data] Downloading package stopwords to\n",
      "[nltk_data]     C:\\Users\\user\\AppData\\Roaming\\nltk_data...\n",
      "[nltk_data]   Unzipping corpora\\stopwords.zip.\n",
      "[nltk_data] Downloading package averaged_perceptron_tagger to\n",
      "[nltk_data]     C:\\Users\\user\\AppData\\Roaming\\nltk_data...\n",
      "[nltk_data]   Unzipping taggers\\averaged_perceptron_tagger.zip.\n"
     ]
    },
    {
     "data": {
      "text/plain": [
       "True"
      ]
     },
     "execution_count": 21,
     "metadata": {},
     "output_type": "execute_result"
    }
   ],
   "source": [
    "nltk.download('stopwords')\n",
    "nltk.download('averaged_perceptron_tagger')"
   ]
  },
  {
   "cell_type": "code",
   "execution_count": 24,
   "id": "d021b032",
   "metadata": {},
   "outputs": [],
   "source": [
    "from nltk.corpus import stopwords\n",
    "\n",
    "from nltk.stem import WordNetLemmatizer\n",
    "from nltk.stem import SnowballStemmer\n",
    "import matplotlib.pyplot as plt\n",
    "from nltk import FreqDist\n",
    "from wordcloud import WordCloud   #python -m pip install wordcloud"
   ]
  },
  {
   "cell_type": "code",
   "execution_count": 31,
   "id": "fe93977e",
   "metadata": {},
   "outputs": [
    {
     "name": "stdout",
     "output_type": "stream",
     "text": [
      "['i', 'me', 'my', 'myself', 'we', 'our', 'ours', 'ourselves', 'you', \"you're\", \"you've\", \"you'll\", \"you'd\", 'your', 'yours', 'yourself', 'yourselves', 'he', 'him', 'his', 'himself', 'she', \"she's\", 'her', 'hers', 'herself', 'it', \"it's\", 'its', 'itself', 'they', 'them', 'their', 'theirs', 'themselves', 'what', 'which', 'who', 'whom', 'this', 'that', \"that'll\", 'these', 'those', 'am', 'is', 'are', 'was', 'were', 'be', 'been', 'being', 'have', 'has', 'had', 'having', 'do', 'does', 'did', 'doing', 'a', 'an', 'the', 'and', 'but', 'if', 'or', 'because', 'as', 'until', 'while', 'of', 'at', 'by', 'for', 'with', 'about', 'against', 'between', 'into', 'through', 'during', 'before', 'after', 'above', 'below', 'to', 'from', 'up', 'down', 'in', 'out', 'on', 'off', 'over', 'under', 'again', 'further', 'then', 'once', 'here', 'there', 'when', 'where', 'why', 'how', 'all', 'any', 'both', 'each', 'few', 'more', 'most', 'other', 'some', 'such', 'no', 'nor', 'not', 'only', 'own', 'same', 'so', 'than', 'too', 'very', 's', 't', 'can', 'will', 'just', 'don', \"don't\", 'should', \"should've\", 'now', 'd', 'll', 'm', 'o', 're', 've', 'y', 'ain', 'aren', \"aren't\", 'couldn', \"couldn't\", 'didn', \"didn't\", 'doesn', \"doesn't\", 'hadn', \"hadn't\", 'hasn', \"hasn't\", 'haven', \"haven't\", 'isn', \"isn't\", 'ma', 'mightn', \"mightn't\", 'mustn', \"mustn't\", 'needn', \"needn't\", 'shan', \"shan't\", 'shouldn', \"shouldn't\", 'wasn', \"wasn't\", 'weren', \"weren't\", 'won', \"won't\", 'wouldn', \"wouldn't\"]\n"
     ]
    }
   ],
   "source": [
    "stopword = stopwords.words(\"english\")\n",
    "print(stop_word)"
   ]
  },
  {
   "cell_type": "code",
   "execution_count": 33,
   "id": "6a77f16d",
   "metadata": {},
   "outputs": [
    {
     "name": "stdout",
     "output_type": "stream",
     "text": [
      "['A', 'boy', 'girl', 'playing', 'together', '.', 'The', 'boy', 'collection', 'marbles', '.', 'The', 'girl', 'sweets', '.', 'The', 'boy', 'told', 'girl', 'give', 'marbles', 'exchange', 'sweets.The', 'girlagreed.The', 'boy', 'kept', 'biggest', 'beautiful', 'marble', 'aside', 'gave', 'rest', 'girl', '.', 'The', 'girl', 'gave', 'sweets', 'promised.That', 'night', ',', 'girl', 'slept', 'peacefully', '.', 'But', 'boy', 'could', \"n't\", 'sleep', 'kept', 'wondering', 'girl', 'hidden', 'sweets', 'way', 'hidden', 'best', 'marble', '.']\n"
     ]
    }
   ],
   "source": [
    "removing_stopword = [word for word in word_token if word not in stopword]\n",
    "print(removing_stopword)"
   ]
  },
  {
   "cell_type": "code",
   "execution_count": 35,
   "id": "0c675d72",
   "metadata": {},
   "outputs": [
    {
     "name": "stdout",
     "output_type": "stream",
     "text": [
      "['A', 'boy', 'girl', 'playing', 'together', 'The', 'boy', 'collection', 'marbles', 'The', 'girl', 'sweets', 'The', 'boy', 'told', 'girl', 'give', 'marbles', 'exchange', 'boy', 'kept', 'biggest', 'beautiful', 'marble', 'aside', 'gave', 'rest', 'girl', 'The', 'girl', 'gave', 'sweets', 'night', 'girl', 'slept', 'peacefully', 'But', 'boy', 'could', 'sleep', 'kept', 'wondering', 'girl', 'hidden', 'sweets', 'way', 'hidden', 'best', 'marble']\n"
     ]
    }
   ],
   "source": [
    "word_without_punctuations = []\n",
    "for word in removing_stopword:\n",
    "    if word.isalpha():\n",
    "        word_without_punctuations.append(word)\n",
    "print(word_without_punctuations)"
   ]
  },
  {
   "cell_type": "code",
   "execution_count": 39,
   "id": "19bc491e",
   "metadata": {},
   "outputs": [
    {
     "name": "stdout",
     "output_type": "stream",
     "text": [
      "there\n",
      "are\n",
      "sevar\n",
      "type\n",
      "of\n",
      "stem\n",
      "algorithm\n",
      ".\n"
     ]
    }
   ],
   "source": [
    "# stemming\n",
    "\n",
    "from nltk.stem import PorterStemmer\n",
    "stemmer=PorterStemmer()\n",
    "input_str = \"There are sevaral types of stemming algorithms.\"\n",
    "input_str=nltk.word_tokenize(input_str)\n",
    "for word in input_str:\n",
    "    print(stemmer.stem(word))"
   ]
  },
  {
   "cell_type": "code",
   "execution_count": 40,
   "id": "e935f663",
   "metadata": {},
   "outputs": [],
   "source": [
    "#lemmatization\n",
    "\n",
    "\n"
   ]
  },
  {
   "cell_type": "code",
   "execution_count": 43,
   "id": "042b7aa3",
   "metadata": {},
   "outputs": [
    {
     "name": "stdout",
     "output_type": "stream",
     "text": [
      "wheres\n",
      "are\n",
      "you\n",
      "going\n",
      "city\n",
      "language\n"
     ]
    }
   ],
   "source": [
    "from nltk.stem import WordNetLemmatizer\n",
    "lemmatizer=WordNetLemmatizer()\n",
    "input_str = \"wheres are you going cities languages\"\n",
    "input_str=nltk.word_tokenize(input_str)\n",
    "for word in input_str:\n",
    "    print(lemmatizer.lemmatize(word))"
   ]
  },
  {
   "cell_type": "code",
   "execution_count": null,
   "id": "0e1e4df3",
   "metadata": {},
   "outputs": [],
   "source": []
  }
 ],
 "metadata": {
  "kernelspec": {
   "display_name": "Python 3 (ipykernel)",
   "language": "python",
   "name": "python3"
  },
  "language_info": {
   "codemirror_mode": {
    "name": "ipython",
    "version": 3
   },
   "file_extension": ".py",
   "mimetype": "text/x-python",
   "name": "python",
   "nbconvert_exporter": "python",
   "pygments_lexer": "ipython3",
   "version": "3.10.0"
  }
 },
 "nbformat": 4,
 "nbformat_minor": 5
}
